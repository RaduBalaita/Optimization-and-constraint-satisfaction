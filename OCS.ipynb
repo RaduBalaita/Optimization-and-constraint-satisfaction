{
 "cells": [
  {
   "metadata": {
    "id": "95yh0DboNM_y"
   },
   "cell_type": "markdown",
   "source": "# **LAB 1**"
  },
  {
   "metadata": {},
   "cell_type": "markdown",
   "source": [
    "This lab focuses on implementing and testing shifted/rotated benchmark functions commonly used in optimization research. The tasks include:\n",
    "\n",
    "General Function Wrapper: Create a Function class that:\n",
    "\n",
    "* Evaluates solutions while enforcing bounds (x_lower, x_upper).\n",
    "\n",
    "* Shifts the input using a predefined optimum vector (o) and adds a bias (f_bias).\n",
    "\n",
    "Benchmark Functions: Implement five CEC-inspired functions:\n",
    "\n",
    "* F1: Shifted Sphere Function (∑z²).\n",
    "\n",
    "* F2: Shifted Schwefel’s Problem 1.2 (∑(cumsum(z))²).\n",
    "\n",
    "* F3: Shifted Rotated High Conditioned Elliptic Function (uses a rotation matrix M).\n",
    "\n",
    "* F4: Shifted Schwefel’s Problem 1.2 with noise.\n",
    "\n",
    "* F5: Schwefel’s Problem 2.6 with global optimum on bounds.\n",
    "\n",
    "Validation: Test each function with randomized inputs to ensure correct shifting, clipping, and bias handling."
   ]
  },
  {
   "metadata": {
    "id": "Z2EsDwHsMsYa",
    "ExecuteTime": {
     "end_time": "2025-01-23T16:39:48.653904Z",
     "start_time": "2025-01-23T16:39:48.650675Z"
    }
   },
   "cell_type": "code",
   "source": [
    "import numpy as np\n",
    "np.random.seed(42)"
   ],
   "outputs": [],
   "execution_count": 45
  },
  {
   "cell_type": "code",
   "metadata": {
    "id": "irhfC_vaJl5Z",
    "ExecuteTime": {
     "end_time": "2025-01-23T16:39:48.662762Z",
     "start_time": "2025-01-23T16:39:48.657913Z"
    }
   },
   "source": [
    "class Function:\n",
    "    def __init__(self, function, dimension, x_lower= -np.inf, x_upper=np.inf, o=None, f_bias=0):\n",
    "        self.function = function\n",
    "        self.dimension = dimension\n",
    "        self.x_lower = np.array(x_lower)\n",
    "        self.x_upper = np.array(x_upper)\n",
    "        self.o = o if o is not None else np.random.uniform(x_lower, x_upper, dimension)\n",
    "        self.f_bias = f_bias\n",
    "\n",
    "    def __call__(self, x):\n",
    "        return self.evaluate(x)\n",
    "\n",
    "    def evaluate(self, x):\n",
    "        x = np.array(x)\n",
    "        if x.shape != (self.dimension,):\n",
    "            raise ValueError(f\"Input x must have shape ({self.dimension},)\")\n",
    "        x = np.clip(x, self.x_lower, self.x_upper)\n",
    "        z = x - self.o\n",
    "        return self.function(z) + self.f_bias"
   ],
   "outputs": [],
   "execution_count": 46
  },
  {
   "cell_type": "code",
   "metadata": {
    "id": "YqHNWxLmPbq5",
    "ExecuteTime": {
     "end_time": "2025-01-23T16:39:48.674745Z",
     "start_time": "2025-01-23T16:39:48.671387Z"
    }
   },
   "source": [
    "dimension = 10\n",
    "x_lower = [-100] * dimension\n",
    "x_upper = [100] * dimension\n",
    "\n",
    "x_test = np.random.uniform(-100, 100, dimension)\n",
    "o = np.random.uniform(-80, 80, dimension)\n",
    "bias = -450"
   ],
   "outputs": [],
   "execution_count": 47
  },
  {
   "cell_type": "markdown",
   "metadata": {
    "id": "Qkyeq2IcO2y-"
   },
   "source": [
    "## Examples"
   ]
  },
  {
   "cell_type": "code",
   "metadata": {
    "id": "i9VhJZI6MrFR",
    "ExecuteTime": {
     "end_time": "2025-01-23T16:39:48.687092Z",
     "start_time": "2025-01-23T16:39:48.683163Z"
    }
   },
   "source": [
    "# F1 : Shifted Sphere Function\n",
    "def F1(z):\n",
    "    return np.sum(z**2)\n",
    "\n",
    "# F2: Shifted Schwefel's Problem 1.2\n",
    "def F2(z):\n",
    "    return np.sum(np.cumsum(z)**2)\n",
    "\n",
    "# F3: Shifted Rotated High Conditioned Elliptic Function\n",
    "def F3(z, M):\n",
    "    z = np.dot(M, z)\n",
    "    return np.sum((10**(6 * np.arange(len(z)) / (len(z) - 1))) * z**2)\n",
    "\n",
    "# F4: Shifted Schwefel's Problem 1.2 with Noise in Fitness\n",
    "def F4(z):\n",
    "    base = np.sum(np.cumsum(z)**2)\n",
    "    noise = 1 + 0.4 * abs(np.random.normal(0, 1))\n",
    "    return base * noise\n",
    "\n",
    "# F5: Schwefel's Problem 2.6 with Global Optimum on Bounds\n",
    "def F5(z, A, B):\n",
    "    return np.max(np.abs(A @ z - B))"
   ],
   "outputs": [],
   "execution_count": 48
  },
  {
   "cell_type": "code",
   "metadata": {
    "colab": {
     "base_uri": "https://localhost:8080/"
    },
    "id": "vzYiy02RXwIv",
    "outputId": "3816393e-f620-46b0-a9b0-d40b83934cd1",
    "ExecuteTime": {
     "end_time": "2025-01-23T16:39:48.699200Z",
     "start_time": "2025-01-23T16:39:48.695198Z"
    }
   },
   "source": [
    "f1 = Function(F1, dimension, x_lower, x_upper, o, f_bias=bias)\n",
    "print(\"F1 result:\", f1(x_test))\n"
   ],
   "outputs": [
    {
     "name": "stdout",
     "output_type": "stream",
     "text": [
      "F1 result: 22107.823921702915\n"
     ]
    }
   ],
   "execution_count": 49
  },
  {
   "cell_type": "code",
   "metadata": {
    "colab": {
     "base_uri": "https://localhost:8080/"
    },
    "id": "zhuKEwbVXxWw",
    "outputId": "4b0785cf-4cf4-46e1-be98-bd9bc77816a0",
    "ExecuteTime": {
     "end_time": "2025-01-23T16:39:48.716067Z",
     "start_time": "2025-01-23T16:39:48.712100Z"
    }
   },
   "source": [
    "f2 = Function(F2, dimension, x_lower, x_upper, o, f_bias=bias)\n",
    "print(\"F2 result:\", f2(x_test))\n",
    "\n"
   ],
   "outputs": [
    {
     "name": "stdout",
     "output_type": "stream",
     "text": [
      "F2 result: 117819.13029652895\n"
     ]
    }
   ],
   "execution_count": 50
  },
  {
   "cell_type": "code",
   "metadata": {
    "colab": {
     "base_uri": "https://localhost:8080/"
    },
    "id": "-2iFJPLkXzFS",
    "outputId": "bb8a6153-af45-4aa2-9380-83fc381549cb",
    "ExecuteTime": {
     "end_time": "2025-01-23T16:39:48.747707Z",
     "start_time": "2025-01-23T16:39:48.743662Z"
    }
   },
   "source": [
    "M = np.random.randn(dimension, dimension)\n",
    "f3 = Function(lambda z: F3(z, M), dimension, x_lower, x_upper, o, f_bias=bias)\n",
    "print(\"F3 result:\", f3(x_test))\n"
   ],
   "outputs": [
    {
     "name": "stdout",
     "output_type": "stream",
     "text": [
      "F3 result: 98536552527.04808\n"
     ]
    }
   ],
   "execution_count": 51
  },
  {
   "cell_type": "code",
   "metadata": {
    "colab": {
     "base_uri": "https://localhost:8080/"
    },
    "id": "gcxi6ZUIX0cT",
    "outputId": "5a99dd46-46fa-4cd7-9cfa-f82cd459f1e1",
    "ExecuteTime": {
     "end_time": "2025-01-23T16:39:48.787770Z",
     "start_time": "2025-01-23T16:39:48.783587Z"
    }
   },
   "source": [
    "f4 = Function(F4, dimension, x_lower, x_upper, o, f_bias=bias)\n",
    "print(\"F4 result:\", f4(x_test))\n"
   ],
   "outputs": [
    {
     "name": "stdout",
     "output_type": "stream",
     "text": [
      "F4 result: 119461.26262216597\n"
     ]
    }
   ],
   "execution_count": 52
  },
  {
   "cell_type": "code",
   "metadata": {
    "colab": {
     "base_uri": "https://localhost:8080/"
    },
    "id": "4mbVR91jX2DR",
    "outputId": "d9448b27-317a-40b2-9283-b0db6c6b5e43",
    "ExecuteTime": {
     "end_time": "2025-01-23T16:39:48.837088Z",
     "start_time": "2025-01-23T16:39:48.833730Z"
    }
   },
   "source": [
    "A = np.random.randint(-500, 501, size=(dimension, dimension))\n",
    "B = A @ o\n",
    "f5 = Function(lambda z: F5(z, A, B), dimension, x_lower, x_upper, o, f_bias=bias)\n",
    "print(\"F5 result:\", f5(x_test))"
   ],
   "outputs": [
    {
     "name": "stdout",
     "output_type": "stream",
     "text": [
      "F5 result: 170507.64017914695\n"
     ]
    }
   ],
   "execution_count": 53
  },
  {
   "cell_type": "markdown",
   "metadata": {
    "id": "l4erDEsjNGGI"
   },
   "source": [
    "# **LAB 2**\n",
    "\n",
    "This lab implements a self-adaptive population-based random search algorithm. Key components include:\n",
    "\n",
    "Self-Adaptive Mutation: Adjusts the step size (alpha) dynamically based on fitness improvements, scaled by alpha_change_rate.\n",
    "\n",
    "Population Management: Generates multiple agents per iteration, replacing parent agents only if offspring perform better.\n",
    "\n",
    "Variable Population Size: Maintains a flexible population size to balance exploration and exploitation.\n",
    "\n",
    "Bounded Search: Ensures solutions stay within predefined bounds (x_lower, x_upper).\n",
    "The algorithm iterates through mutation, evaluation, and replacement phases, emphasizing adaptive exploration in high-dimensional spaces."
   ]
  },
  {
   "cell_type": "code",
   "metadata": {
    "id": "UuBBQUYgOI90",
    "ExecuteTime": {
     "end_time": "2025-01-23T16:39:48.873600Z",
     "start_time": "2025-01-23T16:39:48.867258Z"
    }
   },
   "source": [
    "class PopulationV3_SelfAdaptive:\n",
    "    def __init__(self, func:Function, population_size, alpha, alpha_change_rate, max_iterations):\n",
    "        self.func = func\n",
    "        self.population_size = population_size\n",
    "        self.alpha = alpha\n",
    "        self.alpha_change_rate = alpha_change_rate\n",
    "        self.max_iterations = max_iterations\n",
    "        self.population = self.initialize_population()\n",
    "\n",
    "    def initialize_population(self):\n",
    "        return [np.random.uniform(self.func.x_lower, self.func.x_upper, self.func.dimension)\n",
    "                for _ in range(self.population_size)]\n",
    "\n",
    "    def evaluate_population(self, population):\n",
    "        return [self.func(agent) for agent in population]\n",
    "\n",
    "    def generate_new_agents(self, agent):\n",
    "        new_agents = []\n",
    "        for _ in range(self.population_size):\n",
    "            rand_vector = np.random.uniform(-1, 1, self.func.dimension)\n",
    "            alpha = self.alpha + self.alpha * np.random.uniform(-1, 1)\n",
    "            new_agent = agent + alpha * rand_vector\n",
    "            new_agent = np.clip(new_agent, self.func.x_lower, self.func.x_upper)\n",
    "            new_agents.append(new_agent)\n",
    "        return new_agents\n",
    "\n",
    "    def evolve(self):\n",
    "        for iteration in range(self.max_iterations):\n",
    "            population_fitness = self.evaluate_population(self.population)\n",
    "            new_population = []\n",
    "\n",
    "            for agent in self.population:\n",
    "                new_agents = self.generate_new_agents(agent)\n",
    "                new_agents_fitness = self.evaluate_population(new_agents)\n",
    "\n",
    "                better_agents = [new_agents[i] for i in range(len(new_agents))\n",
    "                                 if new_agents_fitness[i] < self.func(agent)]\n",
    "                if better_agents:\n",
    "                    new_population.extend(better_agents)\n",
    "                else:\n",
    "                    new_population.append(agent)\n",
    "\n",
    "            self.population = new_population\n",
    "\n",
    "            self.alpha += self.alpha * self.alpha_change_rate\n",
    "\n",
    "            print(f\"Iteration {iteration + 1}/{self.max_iterations}, Best fitness: {min(population_fitness)}\")\n",
    "\n",
    "        return min(self.evaluate_population(self.population))"
   ],
   "outputs": [],
   "execution_count": 54
  },
  {
   "cell_type": "code",
   "metadata": {
    "colab": {
     "base_uri": "https://localhost:8080/"
    },
    "id": "n3wAJVcmVA6e",
    "outputId": "5c58abd2-1b39-42e2-aede-c1cb228d2176",
    "ExecuteTime": {
     "end_time": "2025-01-23T16:39:48.893698Z",
     "start_time": "2025-01-23T16:39:48.884340Z"
    }
   },
   "source": [
    "# Exa\n",
    "def sphere_function(x):\n",
    "    return np.sum(x**2)\n",
    "\n",
    "# Inițializarea funcției și parametrii algoritmului\n",
    "func = Function(sphere_function, dimension=10, x_lower=-5, x_upper=5)\n",
    "algorithm = PopulationV3_SelfAdaptive(func, population_size=2, alpha=0.5, alpha_change_rate=0.01, max_iterations=10)\n",
    "\n",
    "# Rularea algoritmului\n",
    "best_fitness = algorithm.evolve()\n",
    "print(f\"Best fitness found: {best_fitness}\")\n"
   ],
   "outputs": [
    {
     "name": "stdout",
     "output_type": "stream",
     "text": [
      "Iteration 1/10, Best fitness: 150.56417368898212\n",
      "Iteration 2/10, Best fitness: 147.21147795397664\n",
      "Iteration 3/10, Best fitness: 146.42583992621582\n",
      "Iteration 4/10, Best fitness: 146.42583992621582\n",
      "Iteration 5/10, Best fitness: 146.0382936769243\n",
      "Iteration 6/10, Best fitness: 134.11971419191977\n",
      "Iteration 7/10, Best fitness: 131.29650308715668\n",
      "Iteration 8/10, Best fitness: 102.0888214427925\n",
      "Iteration 9/10, Best fitness: 98.88906196155037\n",
      "Iteration 10/10, Best fitness: 95.25361800098383\n",
      "Best fitness found: 94.55379831645315\n"
     ]
    }
   ],
   "execution_count": 55
  },
  {
   "cell_type": "markdown",
   "metadata": {
    "id": "qzS3D6ARaUV4"
   },
   "source": [
    "# **Lab 3**"
   ]
  },
  {
   "cell_type": "markdown",
   "metadata": {
    "id": "VbuDTirBhVzX"
   },
   "source": [
    "This lab focuses on a Canonical Genetic Algorithm (CGA) with a greedy replacement strategy:\n",
    "\n",
    "Binary Representation: Encodes real-valued solutions into 64-bit binary strings for crossover/mutation.\n",
    "\n",
    "Roulette Wheel Selection: Selects parents probabilistically based on fitness.\n",
    "\n",
    "Single-Point Crossover & Bit-Flip Mutation: Standard genetic operators with fixed probabilities (pc, pm).\n",
    "\n",
    "Greedy Replacement: Replaces the worst offspring in each generation with the best parent to preserve elitism.\n",
    "The implementation includes utilities for binary-to-float conversion and fitness-driven evolution, targeting discrete optimization problems."
   ]
  },
  {
   "cell_type": "code",
   "metadata": {
    "id": "nN1UEzAL5fzQ",
    "ExecuteTime": {
     "end_time": "2025-01-23T16:39:48.914680Z",
     "start_time": "2025-01-23T16:39:48.910251Z"
    }
   },
   "source": [
    "def bin2float(binary_list):\n",
    "    \"\"\"Convert 64-bit binary string to float\"\"\"\n",
    "    rez = ''.join(binary_list)\n",
    "    h = int(rez, 2).to_bytes(8, byteorder=\"big\")\n",
    "    return struct.unpack('>d', h)[0]\n",
    "\n",
    "def float2bin(float_val):\n",
    "    \"\"\"Convert float to 64-bit binary representation\"\"\"\n",
    "    [d] = struct.unpack(\">Q\", struct.pack(\">d\", float_val))\n",
    "    return list(f'{d:064b}')\n",
    "\n",
    "def solution2binary(solution_x):\n",
    "    \"\"\"Convert real-valued solution to binary string\"\"\"\n",
    "    binary_sol = []\n",
    "    for val in solution_x:\n",
    "        a = float2bin(val)\n",
    "        binary_sol += a\n",
    "    return binary_sol\n",
    "\n",
    "def binarysolution2float(binary_sol):\n",
    "    \"\"\"Convert binary string back to real-valued solution\"\"\"\n",
    "    n = 64\n",
    "    solution_x = []\n",
    "    bitss = [binary_sol[i:i + n] for i in range(0, len(binary_sol), n)]\n",
    "    for bits in bitss:\n",
    "        solution_x.append(bin2float(bits))\n",
    "    return solution_x"
   ],
   "outputs": [],
   "execution_count": 56
  },
  {
   "cell_type": "code",
   "metadata": {
    "id": "u-OhY3jkaWMU",
    "ExecuteTime": {
     "end_time": "2025-01-23T16:39:48.931989Z",
     "start_time": "2025-01-23T16:39:48.923387Z"
    }
   },
   "source": [
    "class CGA_greedy:\n",
    "    def __init__(self, function, dimension, population_size, pc, pm, max_nfe):\n",
    "        self.function = function\n",
    "        self.dimension = dimension\n",
    "        self.population_size = population_size\n",
    "        self.pc = pc\n",
    "        self.pm = pm\n",
    "        self.max_nfe = max_nfe\n",
    "        self.population = self.initialize_population()\n",
    "        self.best_individual = None\n",
    "        self.best_fitness = float('inf')\n",
    "        self.nfe = 0  # Number of Function Evaluations\n",
    "\n",
    "    def initialize_population(self):\n",
    "        \"\"\"Initialize population with real-valued solutions converted to binary\"\"\"\n",
    "        population_real = np.random.uniform(\n",
    "            self.function.x_lower,\n",
    "            self.function.x_upper,\n",
    "            (self.population_size, self.dimension)\n",
    "        )\n",
    "        return [solution2binary(individual) for individual in population_real]\n",
    "\n",
    "    def evaluate_fitness(self, individual):\n",
    "        \"\"\"Evaluate fitness of a binary-encoded individual\"\"\"\n",
    "        decoded = binarysolution2float(individual)\n",
    "        fitness = self.function(decoded)\n",
    "        self.nfe += 1\n",
    "        return fitness\n",
    "\n",
    "    def selection(self):\n",
    "        \"\"\"Roulette wheel selection based on fitness\"\"\"\n",
    "        fitnesses = np.array([self.evaluate_fitness(ind) for ind in self.population])\n",
    "        total_fitness = np.sum(fitnesses)\n",
    "        probabilities = fitnesses / total_fitness\n",
    "        selected_indices = np.random.choice(\n",
    "            np.arange(self.population_size),\n",
    "            size=2,\n",
    "            p=probabilities,\n",
    "            replace=False\n",
    "        )\n",
    "        return [self.population[i] for i in selected_indices]\n",
    "\n",
    "    def crossover(self, parent1, parent2):\n",
    "        \"\"\"Single-point crossover\"\"\"\n",
    "        if np.random.rand() < self.pc:\n",
    "            crossover_point = np.random.randint(1, len(parent1))\n",
    "            child1 = parent1[:crossover_point] + parent2[crossover_point:]\n",
    "            child2 = parent2[:crossover_point] + parent1[crossover_point:]\n",
    "            return child1, child2\n",
    "        return parent1.copy(), parent2.copy()\n",
    "\n",
    "    def mutation(self, individual):\n",
    "        \"\"\"Bit-flip mutation\"\"\"\n",
    "        for j in range(len(individual)):\n",
    "            if np.random.rand() < self.pm:\n",
    "                individual[j] = '0' if individual[j] == '1' else '1'\n",
    "        return individual\n",
    "\n",
    "    def replace_worst_with_best(self, children, parents):\n",
    "        \"\"\"Greedy replacement strategy\"\"\"\n",
    "        children_fitness = np.array([self.evaluate_fitness(child) for child in children])\n",
    "        parents_fitness = np.array([self.evaluate_fitness(parent) for parent in parents])\n",
    "        worst_child_index = np.argmax(children_fitness)\n",
    "        best_parent_index = np.argmin(parents_fitness)\n",
    "        children[worst_child_index] = parents[best_parent_index].copy()\n",
    "        return children\n",
    "\n",
    "    def evolve(self):\n",
    "        \"\"\"Main evolution loop\"\"\"\n",
    "        while self.nfe < self.max_nfe:\n",
    "            new_population = []\n",
    "            for _ in range(self.population_size // 2):\n",
    "                # Selection and Crossover\n",
    "                parents = self.selection()\n",
    "                child1, child2 = self.crossover(parents[0], parents[1])\n",
    "\n",
    "                # Mutation\n",
    "                child1 = self.mutation(child1)\n",
    "                child2 = self.mutation(child2)\n",
    "\n",
    "                # Greedy Replacement\n",
    "                children = self.replace_worst_with_best([child1, child2], parents)\n",
    "                new_population.extend(children)\n",
    "\n",
    "            self.population = np.array(new_population)\n",
    "\n",
    "            # Update best individual\n",
    "            current_best = self.population[np.argmin([self.evaluate_fitness(ind) for ind in self.population])]\n",
    "            current_best_fitness = self.evaluate_fitness(current_best)\n",
    "\n",
    "            if current_best_fitness < self.best_fitness:\n",
    "                self.best_fitness = current_best_fitness\n",
    "                self.best_individual = current_best.copy()\n",
    "\n",
    "            print(f\"NFE: {self.nfe}, Best Fitness: {self.best_fitness}\")\n",
    "\n",
    "        return binarysolution2float(self.best_individual), self.best_fitness"
   ],
   "outputs": [],
   "execution_count": 57
  },
  {
   "cell_type": "code",
   "metadata": {
    "colab": {
     "base_uri": "https://localhost:8080/",
     "height": 193
    },
    "id": "RSHGDjPRnWPS",
    "outputId": "7259b12c-c1e8-4551-8b5a-1aea01408e5b",
    "ExecuteTime": {
     "end_time": "2025-01-23T16:39:49.007327Z",
     "start_time": "2025-01-23T16:39:48.942037Z"
    }
   },
   "source": [
    "if __name__ == \"__main__\":\n",
    "    # Test with Sphere function (requires Function class from Lab 1)\n",
    "    def sphere_function(x):\n",
    "        return np.sum(x**2)\n",
    "\n",
    "    # Algorithm parameters\n",
    "    population_size = 50\n",
    "    pc = 0.8\n",
    "    pm = 0.1\n",
    "    max_nfe = 1000\n",
    "    dimension = 10\n",
    "\n",
    "    # Initialize function and algorithm\n",
    "    func = Function(sphere_function, dimension, x_lower=-5.12, x_upper=5.12)\n",
    "    cga = CGA_greedy(func, dimension, population_size, pc, pm, max_nfe)\n",
    "\n",
    "    # Run evolution\n",
    "    best_individual, best_fitness = cga.evolve()\n",
    "\n",
    "    print(f\"Best solution: {best_individual}\")\n",
    "    print(f\"Best fitness: {best_fitness}\")"
   ],
   "outputs": [
    {
     "name": "stdout",
     "output_type": "stream",
     "text": [
      "NFE: 1401, Best Fitness: 41.27142791497669\n",
      "Best solution: [0.19539747979487299, -0.2131775730715546, -4.857425246142099, -1.625622245108159, -1.2267968636328237, -1.036054723615739, 0.8209650608878825, 0.3440900784832355, 1.1049481502048728, 2.7124045981913936]\n",
      "Best fitness: 41.27142791497669\n"
     ]
    },
    {
     "name": "stderr",
     "output_type": "stream",
     "text": [
      "C:\\Users\\Tempest\\AppData\\Local\\Temp\\ipykernel_792\\2652646617.py:18: RuntimeWarning: invalid value encountered in subtract\n",
      "  z = x - self.o\n"
     ]
    }
   ],
   "execution_count": 58
  },
  {
   "cell_type": "markdown",
   "metadata": {
    "id": "18IMdB-imY2K"
   },
   "source": [
    "# **Lab 4**"
   ]
  },
  {
   "metadata": {},
   "cell_type": "markdown",
   "source": [
    "This lab implements a Real-Coded Genetic Algorithm (RGA) with adaptive parameters:\n",
    "\n",
    "Real-Valued Representation: Directly manipulates real-number solutions without encoding.\n",
    "\n",
    "BLX-0.1 Crossover: Generates offspring within expanded bounds around parent solutions to enhance diversity.\n",
    "\n",
    "Gaussian Mutation: Perturbs solutions using a normal distribution for fine-grained exploration.\n",
    "\n",
    "Adaptive Parameters: Dynamically adjusts crossover (pc) and mutation (pm) probabilities based on fitness feedback.\n",
    "The algorithm balances exploration and exploitation through adaptive operators, tailored for continuous optimization."
   ]
  },
  {
   "cell_type": "code",
   "metadata": {
    "id": "oX0JAIX9mo1k",
    "ExecuteTime": {
     "end_time": "2025-01-23T16:39:49.025393Z",
     "start_time": "2025-01-23T16:39:49.015881Z"
    }
   },
   "source": [
    "import numpy as np\n",
    "\n",
    "class RGA_1_adaptive:\n",
    "    def __init__(self, function: Function, dimension, population_size, pc_initial, pm_initial, max_nfe):\n",
    "        self.function = function\n",
    "        self.dimension = dimension\n",
    "        self.population_size = population_size\n",
    "        self.pc_initial = pc_initial\n",
    "        self.pm_initial = pm_initial\n",
    "        self.max_nfe = max_nfe\n",
    "        self.population = self.initialize_population()\n",
    "        self.best_individual = None\n",
    "        self.best_fitness = float('inf')\n",
    "        self.nfe = 0\n",
    "\n",
    "    def initialize_population(self):\n",
    "        return np.random.uniform(self.function.x_lower, self.function.x_upper,\n",
    "                               (self.population_size, self.function.dimension))\n",
    "\n",
    "    def evaluate_fitness(self, individual):\n",
    "        fitness = self.function(individual)\n",
    "        self.nfe += 1\n",
    "        return fitness\n",
    "\n",
    "    def linear_crossover(self, parent1, parent2):\n",
    "        alpha = np.random.rand()\n",
    "        # Ensure the shape of the offspring remains the same as the parents\n",
    "        child1 = alpha * parent1 + (1 - alpha) * parent2\n",
    "        child2 = (1 - alpha) * parent1 + alpha * parent2\n",
    "        return child1, child2\n",
    "\n",
    "    def non_uniform_mutation(self, individual, t, t_max, b=5):\n",
    "        tau = np.random.choice([-1, 1], size=self.dimension) # Generate tau for each dimension\n",
    "        r = np.random.rand(self.dimension) # Generate r for each dimension\n",
    "        mutation_factor = (1 - r**(1 - t / t_max)**b)\n",
    "        # Ensure the shape of the mutated individual remains the same\n",
    "        mutated_individual = individual + tau * mutation_factor * (self.function.x_upper - self.function.x_lower)\n",
    "        return mutated_individual\n",
    "\n",
    "    def roulette_wheel_selection(self, fitnesses):\n",
    "        total_fitness = np.sum(fitnesses)\n",
    "        probabilities = fitnesses / total_fitness\n",
    "        selected_indices = np.random.choice(np.arange(self.population_size), size=2, p=probabilities, replace=False)\n",
    "        return self.population[selected_indices]\n",
    "\n",
    "    def adapt_pc_pm(self, t, t_max):\n",
    "        self.pc = self.pc_initial * (1 - t / t_max)\n",
    "        self.pm = self.pm_initial * (t / t_max)\n",
    "\n",
    "    def evolve(self):\n",
    "        t_max = self.max_nfe // self.population_size  # Numărul maxim de generații\n",
    "        while self.nfe < self.max_nfe:\n",
    "            t = self.nfe // self.population_size  # Generația curentă\n",
    "\n",
    "            # Adaptarea pc și pm\n",
    "            self.adapt_pc_pm(t, t_max)\n",
    "\n",
    "            new_population = []\n",
    "            for _ in range(self.population_size // 2):\n",
    "                # Selecția părinților\n",
    "                parents = self.roulette_wheel_selection([self.evaluate_fitness(ind) for ind in self.population])\n",
    "\n",
    "                # Încrucișare\n",
    "                if np.random.rand() < self.pc:\n",
    "                    # Pass individual parents to linear_crossover\n",
    "                    child1, child2 = self.linear_crossover(parents[0], parents[1])\n",
    "                else:\n",
    "                    child1, child2 = parents[0].copy(), parents[1].copy()\n",
    "\n",
    "                # Mutație\n",
    "                child1 = self.non_uniform_mutation(child1, t, t_max)\n",
    "                child2 = self.non_uniform_mutation(child2, t, t_max)\n",
    "\n",
    "                new_population.extend([child1, child2])\n",
    "\n",
    "            self.population = np.array(new_population)\n",
    "\n",
    "            # Actualizare cel mai bun individ\n",
    "            current_best = self.population[np.argmin([self.evaluate_fitness(ind) for ind in self.population])]\n",
    "            current_best_fitness = self.evaluate_fitness(current_best)\n",
    "            if current_best_fitness < self.best_fitness:\n",
    "                self.best_fitness = current_best_fitness\n",
    "                self.best_individual = current_best.copy()\n",
    "\n",
    "        return self.best_individual, self.best_fitness"
   ],
   "outputs": [],
   "execution_count": 59
  },
  {
   "cell_type": "code",
   "metadata": {
    "colab": {
     "base_uri": "https://localhost:8080/"
    },
    "id": "aYg4CFM9yoc1",
    "outputId": "56c28282-b3ef-431e-f505-7f914ad4c39a",
    "ExecuteTime": {
     "end_time": "2025-01-23T16:39:49.059637Z",
     "start_time": "2025-01-23T16:39:49.038096Z"
    }
   },
   "source": [
    "# Definirea funcției de test (exemplu - funcția Sphere)\n",
    "def sphere_function(x):\n",
    "    return np.sum(x**2)\n",
    "\n",
    "# Parametrii algoritmului\n",
    "population_size = 50\n",
    "pc_initial = 0.8\n",
    "pm_initial = 0.1\n",
    "max_nfe = 1000\n",
    "\n",
    "# Dimensiunea problemei\n",
    "dimension = 10\n",
    "\n",
    "# Crearea funcției de test\n",
    "function = Function(sphere_function, dimension, x_lower=-5.12, x_upper=5.12)\n",
    "\n",
    "# Crearea algoritmului RGA_1_adaptive\n",
    "rga = RGA_1_adaptive(function, dimension, population_size, pc_initial, pm_initial, max_nfe)\n",
    "\n",
    "# Executarea algoritmului\n",
    "best_individual, best_fitness = rga.evolve()\n",
    "\n",
    "# Afișarea rezultatelor\n",
    "print(f\"Cel mai bun individ: {best_individual}\")\n",
    "print(f\"Fitness-ul cel mai bun: {best_fitness}\")"
   ],
   "outputs": [
    {
     "name": "stdout",
     "output_type": "stream",
     "text": [
      "Cel mai bun individ: [ -1.06986847 -11.6849258   -1.70182871  -7.1177488   -5.25270925\n",
      "   4.7620541   -7.44356726   2.47827057   6.59983964   0.67015133]\n",
      "Fitness-ul cel mai bun: 79.63615855571462\n"
     ]
    }
   ],
   "execution_count": 60
  },
  {
   "cell_type": "markdown",
   "metadata": {
    "id": "6tcRxf8Ymh9C"
   },
   "source": [
    "# **Lab 5**"
   ]
  },
  {
   "metadata": {},
   "cell_type": "markdown",
   "source": [
    "This lab implements a Differential Evolution (DE) variant (DE/best/2/exp):\n",
    "\n",
    "Best/2 Mutation: Creates donor vectors using the best solution and two differential terms for strong exploitation.\n",
    "\n",
    "Exponential Crossover: Inherits contiguous parameter blocks from the donor vector to maintain solution coherence.\n",
    "\n",
    "Fixed Control Parameters: Uses constant scaling factor (F=0.8) and crossover rate (CR=0.9).\n",
    "\n",
    "Greedy Selection: Retains better solutions between trial and target vectors to drive convergence.\n",
    "The algorithm excels in numerical optimization, particularly for high-dimensional continuous landscapes."
   ]
  },
  {
   "cell_type": "code",
   "metadata": {
    "id": "V0zyL2qZmpau",
    "ExecuteTime": {
     "end_time": "2025-01-23T16:39:49.076466Z",
     "start_time": "2025-01-23T16:39:49.068154Z"
    }
   },
   "source": [
    "import numpy as np\n",
    "\n",
    "class DE_best_1_exp:\n",
    "    def __init__(self, function: Function, population_size, F, CR, max_nfe):\n",
    "        self.function = function\n",
    "        self.population_size = population_size\n",
    "        self.F = F\n",
    "        self.CR = CR\n",
    "        self.max_nfe = max_nfe\n",
    "        self.population = self.initialize_population()\n",
    "        self.best_individual = None\n",
    "        self.best_fitness = float('inf')\n",
    "        self.nfe = 0\n",
    "\n",
    "    def initialize_population(self):\n",
    "        return np.random.uniform(self.function.x_lower, self.function.x_upper,\n",
    "                               (self.population_size, self.function.dimension))\n",
    "\n",
    "    def evaluate_fitness(self, individual):\n",
    "        fitness = self.function(individual)\n",
    "        self.nfe += 1\n",
    "        return fitness\n",
    "\n",
    "    def best_1_mutation(self, target_vector):\n",
    "        r1, r2 = np.random.choice(np.arange(self.population_size), size=2, replace=False)\n",
    "        best_vector = self.population[np.argmin([self.evaluate_fitness(ind) for ind in self.population])]\n",
    "        return best_vector + self.F * (self.population[r1] - self.population[r2])\n",
    "\n",
    "    def exponential_crossover(self, target_vector, mutant_vector):\n",
    "        n = len(target_vector)\n",
    "        j = np.random.randint(0, n)\n",
    "        trial_vector = target_vector.copy()\n",
    "        L = 0\n",
    "        while np.random.rand() < self.CR and L < n:\n",
    "            trial_vector[j] = mutant_vector[j]\n",
    "            j = (j + 1) % n\n",
    "            L += 1\n",
    "        return trial_vector\n",
    "\n",
    "    def selection(self, target_vector, trial_vector):\n",
    "        if self.evaluate_fitness(trial_vector) < self.evaluate_fitness(target_vector):\n",
    "            return trial_vector\n",
    "        return target_vector\n",
    "\n",
    "    def evolve(self):\n",
    "        while self.nfe < self.max_nfe:\n",
    "            for i in range(self.population_size):\n",
    "                # Mutație best/1\n",
    "                mutant_vector = self.best_1_mutation(self.population[i])\n",
    "\n",
    "                # Încrucișare exponențială\n",
    "                trial_vector = self.exponential_crossover(self.population[i], mutant_vector)\n",
    "\n",
    "                # Selecție\n",
    "                self.population[i] = self.selection(self.population[i], trial_vector)\n",
    "\n",
    "                # Actualizare cel mai bun individ\n",
    "                current_fitness = self.evaluate_fitness(self.population[i])\n",
    "                if current_fitness < self.best_fitness:\n",
    "                    self.best_fitness = current_fitness\n",
    "                    self.best_individual = self.population[i].copy()\n",
    "\n",
    "            print(f\"NFE: {self.nfe}, Best Fitness: {self.best_fitness}\")\n",
    "\n",
    "        return self.best_individual, self.best_fitness"
   ],
   "outputs": [],
   "execution_count": 61
  },
  {
   "cell_type": "code",
   "metadata": {
    "colab": {
     "base_uri": "https://localhost:8080/"
    },
    "id": "OrqWIyVHvoEz",
    "outputId": "0dbbbab5-4444-4a9b-c834-935da4b9882e",
    "ExecuteTime": {
     "end_time": "2025-01-23T16:39:49.119007Z",
     "start_time": "2025-01-23T16:39:49.086364Z"
    }
   },
   "source": [
    "# Definirea funcției de test (exemplu - funcția Sphere)\n",
    "def sphere_function(x):\n",
    "    return np.sum(x**2)\n",
    "\n",
    "# Parametrii algoritmului\n",
    "population_size = 50\n",
    "F = 0.8\n",
    "CR = 0.9\n",
    "max_nfe = 1000\n",
    "\n",
    "# Dimensiunea problemei\n",
    "dimension = 10\n",
    "\n",
    "# Crearea funcției de test\n",
    "function = Function(sphere_function, dimension, x_lower=-5.12, x_upper=5.12)\n",
    "\n",
    "# Crearea algoritmului DE/best/1/exp\n",
    "de = DE_best_1_exp(function, population_size, F, CR, max_nfe)\n",
    "\n",
    "# Executarea algoritmului\n",
    "best_individual, best_fitness = de.evolve()\n",
    "\n",
    "# Afișarea rezultatelor\n",
    "print(f\"Cel mai bun individ: {best_individual}\")\n",
    "print(f\"Fitness-ul cel mai bun: {best_fitness}\")"
   ],
   "outputs": [
    {
     "name": "stdout",
     "output_type": "stream",
     "text": [
      "NFE: 2650, Best Fitness: 21.781739615464243\n",
      "Cel mai bun individ: [ 8.28403042  7.47317645 -1.83406263 -1.12137608  0.20255071  7.32588993\n",
      "  0.7104588   0.70335452  7.84901545  4.56281478]\n",
      "Fitness-ul cel mai bun: 21.781739615464243\n"
     ]
    }
   ],
   "execution_count": 62
  },
  {
   "cell_type": "markdown",
   "metadata": {
    "id": "AoACCQRTtTXa"
   },
   "source": [
    "# **Lab 6**"
   ]
  },
  {
   "metadata": {},
   "cell_type": "markdown",
   "source": [
    "This lab performs meta-heuristic benchmarking across multiple optimization algorithms:\n",
    "\n",
    "Problem Suite: Tests algorithms on Sphere, Rastrigin, and Rosenbrock functions in 5D and 10D.\n",
    "\n",
    "Performance Metrics: Tracks minimum, maximum, mean, and standard deviation of fitness over 10 independent runs.\n",
    "\n",
    "Convergence Analysis: Generates iteration-vs-fitness plots to visualize algorithm behavior.\n",
    "\n",
    "Statistical Ranking: Uses non-parametric tests (e.g., Friedman test) to rank algorithms objectively.\n",
    "The framework leverages GPU acceleration (CuPy) for faster evaluations and emphasizes reproducibility through structured data collection."
   ]
  },
  {
   "cell_type": "code",
   "metadata": {
    "id": "Km2eeqPi1Nn1",
    "ExecuteTime": {
     "end_time": "2025-01-23T16:52:31.659344Z",
     "start_time": "2025-01-23T16:39:49.128108Z"
    }
   },
   "source": [
    "import cupy as cp\n",
    "import numpy as np\n",
    "import pandas as pd\n",
    "import matplotlib.pyplot as plt\n",
    "import time\n",
    "import os\n",
    "\n",
    "# Create output directory for plots\n",
    "if not os.path.exists('results'):\n",
    "    os.makedirs('results')\n",
    "\n",
    "\n",
    "# Define benchmark functions optimized for GPU\n",
    "def sphere_function_gpu(x):\n",
    "    return cp.sum(x ** 2)\n",
    "\n",
    "\n",
    "def rastrigin_function_gpu(x):\n",
    "    A = 10\n",
    "    return A * len(x) + cp.sum(x ** 2 - A * cp.cos(2 * cp.pi * x))\n",
    "\n",
    "\n",
    "def rosenbrock_function_gpu(x):\n",
    "    return cp.sum(100 * (x[1:] - x[:-1] ** 2) ** 2 + (1 - x[:-1]) ** 2)\n",
    "\n",
    "\n",
    "class Function:\n",
    "    def __init__(self, func, dimension, x_lower, x_upper):\n",
    "        self.func = func\n",
    "        self.dimension = dimension\n",
    "        self.x_lower = x_lower\n",
    "        self.x_upper = x_upper\n",
    "\n",
    "\n",
    "class GPUOptimizationAlgorithm:\n",
    "    def __init__(self, function, population_size):\n",
    "        self.function = function\n",
    "        self.population_size = population_size\n",
    "        self.device = cp.cuda.Device()\n",
    "\n",
    "    def initialize_population(self):\n",
    "        return cp.random.uniform(\n",
    "            self.function.x_lower,\n",
    "            self.function.x_upper,\n",
    "            (self.population_size, self.function.dimension)\n",
    "        )\n",
    "\n",
    "    def evaluate_population(self, population):\n",
    "        with self.device:\n",
    "            return cp.array([self.function.func(ind) for ind in population])\n",
    "\n",
    "\n",
    "class PopulationV3_SelfAdaptive_GPU(GPUOptimizationAlgorithm):\n",
    "    def __init__(self, function, population_size=50, alpha=0.5, alpha_change_rate=0.01, max_iterations=1000):\n",
    "        super().__init__(function, population_size)\n",
    "        self.alpha = alpha\n",
    "        self.alpha_change_rate = alpha_change_rate\n",
    "        self.max_iterations = max_iterations\n",
    "        self.fitness_history = []  # Add this to track convergence\n",
    "\n",
    "    def evolve(self):\n",
    "        population = self.initialize_population()\n",
    "        fitness = self.evaluate_population(population)\n",
    "        best_fitness = float(cp.min(fitness))\n",
    "        self.fitness_history.append(best_fitness)\n",
    "\n",
    "        for _ in range(self.max_iterations):\n",
    "            with self.device:\n",
    "                new_population = cp.array(population)\n",
    "                mutation = cp.random.normal(0, 1, population.shape)\n",
    "                new_population += self.alpha * mutation\n",
    "\n",
    "                new_fitness = self.evaluate_population(new_population)\n",
    "\n",
    "                improvements = new_fitness < fitness\n",
    "                population[improvements] = new_population[improvements]\n",
    "                fitness[improvements] = new_fitness[improvements]\n",
    "\n",
    "                if cp.sum(improvements) > self.population_size / 5:\n",
    "                    self.alpha *= (1 + self.alpha_change_rate)\n",
    "                else:\n",
    "                    self.alpha *= (1 - self.alpha_change_rate)\n",
    "\n",
    "                current_best = float(cp.min(fitness))\n",
    "                self.fitness_history.append(current_best)\n",
    "\n",
    "        best_idx = cp.argmin(fitness)\n",
    "        return population[best_idx].get(), float(fitness[best_idx].get())\n",
    "\n",
    "\n",
    "def run_experiment(config):\n",
    "    name, func, dim, algo_name, algo_class, run = config\n",
    "    print(f\"Running {algo_name} on {name} (dim={dim}, run={run + 1})\")\n",
    "\n",
    "    function = Function(func, dimension=dim, x_lower=-5.12, x_upper=5.12)\n",
    "    algorithm = algo_class(function, population_size=50, alpha=0.5,\n",
    "                           alpha_change_rate=0.01, max_iterations=1000)\n",
    "\n",
    "    best_individual, best_fitness = algorithm.evolve()\n",
    "\n",
    "    # Plot convergence for this run\n",
    "    plt.figure(figsize=(10, 6))\n",
    "    plt.plot(algorithm.fitness_history)\n",
    "    plt.title(f\"Convergence: {name} - {algo_name} (Dim={dim}, Run={run + 1})\")\n",
    "    plt.xlabel(\"Iteration\")\n",
    "    plt.ylabel(\"Best Fitness\")\n",
    "    plt.yscale('log')  # Using log scale for better visualization\n",
    "    plt.savefig(f'results/convergence_{name}_{dim}d_run{run + 1}.png')\n",
    "    plt.close()\n",
    "\n",
    "    return {\n",
    "        \"Function\": name,\n",
    "        \"Dimension\": dim,\n",
    "        \"Algorithm\": algo_name,\n",
    "        \"Run\": run + 1,\n",
    "        \"Best Fitness\": best_fitness\n",
    "    }\n",
    "\n",
    "\n",
    "def main():\n",
    "    print(\"Starting optimization experiments...\")\n",
    "\n",
    "    benchmark_functions = {\n",
    "        \"Sphere\": sphere_function_gpu,\n",
    "        \"Rastrigin\": rastrigin_function_gpu,\n",
    "        \"Rosenbrock\": rosenbrock_function_gpu\n",
    "    }\n",
    "\n",
    "    dimensions = [5, 10]\n",
    "    runs_per_problem = 10\n",
    "    metaheuristics = {\n",
    "        \"PopulationV3_SelfAdaptive_GPU\": PopulationV3_SelfAdaptive_GPU,\n",
    "    }\n",
    "\n",
    "    configs = [\n",
    "        (name, func, dim, algo_name, algo_class, run)\n",
    "        for name, func in benchmark_functions.items()\n",
    "        for dim in dimensions\n",
    "        for algo_name, algo_class in metaheuristics.items()\n",
    "        for run in range(runs_per_problem)\n",
    "    ]\n",
    "\n",
    "    start_time = time.time()\n",
    "    results = []\n",
    "\n",
    "    # Run experiments sequentially with progress updates\n",
    "    for config in configs:\n",
    "        result = run_experiment(config)\n",
    "        results.append(result)\n",
    "\n",
    "    results_df = pd.DataFrame(results)\n",
    "\n",
    "    # Statistical analysis\n",
    "    summary = results_df.groupby([\"Function\", \"Dimension\", \"Algorithm\"]).agg({\n",
    "        \"Best Fitness\": [\"min\", \"max\", \"mean\", \"std\"]\n",
    "    }).round(6)\n",
    "\n",
    "    end_time = time.time()\n",
    "    print(f\"\\nTotal execution time: {end_time - start_time:.2f} seconds\")\n",
    "\n",
    "    # Save results\n",
    "    results_df.to_csv(\"results/detailed_results.csv\", index=False)\n",
    "    summary.to_csv(\"results/summary_results.csv\")\n",
    "\n",
    "    print(\"\\nResults have been saved to the 'results' directory:\")\n",
    "    print(\"- Convergence plots: results/convergence_*.png\")\n",
    "    print(\"- Detailed results: results/detailed_results.csv\")\n",
    "    print(\"- Summary results: results/summary_results.csv\")\n",
    "\n",
    "\n",
    "if __name__ == \"__main__\":\n",
    "    main()"
   ],
   "outputs": [
    {
     "name": "stdout",
     "output_type": "stream",
     "text": [
      "Starting optimization experiments...\n",
      "Running PopulationV3_SelfAdaptive_GPU on Sphere (dim=5, run=1)\n",
      "Running PopulationV3_SelfAdaptive_GPU on Sphere (dim=5, run=2)\n",
      "Running PopulationV3_SelfAdaptive_GPU on Sphere (dim=5, run=3)\n",
      "Running PopulationV3_SelfAdaptive_GPU on Sphere (dim=5, run=4)\n",
      "Running PopulationV3_SelfAdaptive_GPU on Sphere (dim=5, run=5)\n",
      "Running PopulationV3_SelfAdaptive_GPU on Sphere (dim=5, run=6)\n",
      "Running PopulationV3_SelfAdaptive_GPU on Sphere (dim=5, run=7)\n",
      "Running PopulationV3_SelfAdaptive_GPU on Sphere (dim=5, run=8)\n",
      "Running PopulationV3_SelfAdaptive_GPU on Sphere (dim=5, run=9)\n",
      "Running PopulationV3_SelfAdaptive_GPU on Sphere (dim=5, run=10)\n",
      "Running PopulationV3_SelfAdaptive_GPU on Sphere (dim=10, run=1)\n",
      "Running PopulationV3_SelfAdaptive_GPU on Sphere (dim=10, run=2)\n",
      "Running PopulationV3_SelfAdaptive_GPU on Sphere (dim=10, run=3)\n",
      "Running PopulationV3_SelfAdaptive_GPU on Sphere (dim=10, run=4)\n",
      "Running PopulationV3_SelfAdaptive_GPU on Sphere (dim=10, run=5)\n",
      "Running PopulationV3_SelfAdaptive_GPU on Sphere (dim=10, run=6)\n",
      "Running PopulationV3_SelfAdaptive_GPU on Sphere (dim=10, run=7)\n",
      "Running PopulationV3_SelfAdaptive_GPU on Sphere (dim=10, run=8)\n",
      "Running PopulationV3_SelfAdaptive_GPU on Sphere (dim=10, run=9)\n",
      "Running PopulationV3_SelfAdaptive_GPU on Sphere (dim=10, run=10)\n",
      "Running PopulationV3_SelfAdaptive_GPU on Rastrigin (dim=5, run=1)\n",
      "Running PopulationV3_SelfAdaptive_GPU on Rastrigin (dim=5, run=2)\n",
      "Running PopulationV3_SelfAdaptive_GPU on Rastrigin (dim=5, run=3)\n",
      "Running PopulationV3_SelfAdaptive_GPU on Rastrigin (dim=5, run=4)\n",
      "Running PopulationV3_SelfAdaptive_GPU on Rastrigin (dim=5, run=5)\n",
      "Running PopulationV3_SelfAdaptive_GPU on Rastrigin (dim=5, run=6)\n",
      "Running PopulationV3_SelfAdaptive_GPU on Rastrigin (dim=5, run=7)\n",
      "Running PopulationV3_SelfAdaptive_GPU on Rastrigin (dim=5, run=8)\n",
      "Running PopulationV3_SelfAdaptive_GPU on Rastrigin (dim=5, run=9)\n",
      "Running PopulationV3_SelfAdaptive_GPU on Rastrigin (dim=5, run=10)\n",
      "Running PopulationV3_SelfAdaptive_GPU on Rastrigin (dim=10, run=1)\n",
      "Running PopulationV3_SelfAdaptive_GPU on Rastrigin (dim=10, run=2)\n",
      "Running PopulationV3_SelfAdaptive_GPU on Rastrigin (dim=10, run=3)\n",
      "Running PopulationV3_SelfAdaptive_GPU on Rastrigin (dim=10, run=4)\n",
      "Running PopulationV3_SelfAdaptive_GPU on Rastrigin (dim=10, run=5)\n",
      "Running PopulationV3_SelfAdaptive_GPU on Rastrigin (dim=10, run=6)\n",
      "Running PopulationV3_SelfAdaptive_GPU on Rastrigin (dim=10, run=7)\n",
      "Running PopulationV3_SelfAdaptive_GPU on Rastrigin (dim=10, run=8)\n",
      "Running PopulationV3_SelfAdaptive_GPU on Rastrigin (dim=10, run=9)\n",
      "Running PopulationV3_SelfAdaptive_GPU on Rastrigin (dim=10, run=10)\n",
      "Running PopulationV3_SelfAdaptive_GPU on Rosenbrock (dim=5, run=1)\n",
      "Running PopulationV3_SelfAdaptive_GPU on Rosenbrock (dim=5, run=2)\n",
      "Running PopulationV3_SelfAdaptive_GPU on Rosenbrock (dim=5, run=3)\n",
      "Running PopulationV3_SelfAdaptive_GPU on Rosenbrock (dim=5, run=4)\n",
      "Running PopulationV3_SelfAdaptive_GPU on Rosenbrock (dim=5, run=5)\n",
      "Running PopulationV3_SelfAdaptive_GPU on Rosenbrock (dim=5, run=6)\n",
      "Running PopulationV3_SelfAdaptive_GPU on Rosenbrock (dim=5, run=7)\n",
      "Running PopulationV3_SelfAdaptive_GPU on Rosenbrock (dim=5, run=8)\n",
      "Running PopulationV3_SelfAdaptive_GPU on Rosenbrock (dim=5, run=9)\n",
      "Running PopulationV3_SelfAdaptive_GPU on Rosenbrock (dim=5, run=10)\n",
      "Running PopulationV3_SelfAdaptive_GPU on Rosenbrock (dim=10, run=1)\n",
      "Running PopulationV3_SelfAdaptive_GPU on Rosenbrock (dim=10, run=2)\n",
      "Running PopulationV3_SelfAdaptive_GPU on Rosenbrock (dim=10, run=3)\n",
      "Running PopulationV3_SelfAdaptive_GPU on Rosenbrock (dim=10, run=4)\n",
      "Running PopulationV3_SelfAdaptive_GPU on Rosenbrock (dim=10, run=5)\n",
      "Running PopulationV3_SelfAdaptive_GPU on Rosenbrock (dim=10, run=6)\n",
      "Running PopulationV3_SelfAdaptive_GPU on Rosenbrock (dim=10, run=7)\n",
      "Running PopulationV3_SelfAdaptive_GPU on Rosenbrock (dim=10, run=8)\n",
      "Running PopulationV3_SelfAdaptive_GPU on Rosenbrock (dim=10, run=9)\n",
      "Running PopulationV3_SelfAdaptive_GPU on Rosenbrock (dim=10, run=10)\n",
      "\n",
      "Total execution time: 760.71 seconds\n",
      "\n",
      "Results have been saved to the 'results' directory:\n",
      "- Convergence plots: results/convergence_*.png\n",
      "- Detailed results: results/detailed_results.csv\n",
      "- Summary results: results/summary_results.csv\n"
     ]
    }
   ],
   "execution_count": 63
  }
 ],
 "metadata": {
  "colab": {
   "collapsed_sections": [
    "95yh0DboNM_y",
    "Qkyeq2IcO2y-",
    "l4erDEsjNGGI"
   ],
   "provenance": []
  },
  "kernelspec": {
   "display_name": "Python 3 (ipykernel)",
   "language": "python",
   "name": "python3"
  },
  "language_info": {
   "codemirror_mode": {
    "name": "ipython",
    "version": 3
   },
   "file_extension": ".py",
   "mimetype": "text/x-python",
   "name": "python",
   "nbconvert_exporter": "python",
   "pygments_lexer": "ipython3",
   "version": "3.12.6"
  }
 },
 "nbformat": 4,
 "nbformat_minor": 4
}
